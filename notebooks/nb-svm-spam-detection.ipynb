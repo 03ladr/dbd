{
 "cells": [
  {
   "cell_type": "markdown",
   "source": [
    "# Comparing email spam detection models using Naive Bayes versus SVM"
   ],
   "metadata": {
    "collapsed": false,
    "pycharm": {
     "name": "#%% md\n"
    }
   }
  },
  {
   "cell_type": "code",
   "execution_count": 13,
   "outputs": [],
   "source": [
    "import pandas as pd\n",
    "from typing import Optional\n",
    "import numpy as np\n",
    "import re\n",
    "from nltk.corpus import stopwords, words\n",
    "from nltk.tokenize import word_tokenize\n",
    "from sklearn.naive_bayes import MultinomialNB\n",
    "from sklearn.feature_extraction.text import CountVectorizer\n",
    "from sklearn.model_selection import train_test_split\n",
    "from sklearn.metrics import classification_report, confusion_matrix, accuracy_score"
   ],
   "metadata": {
    "collapsed": false,
    "pycharm": {
     "name": "#%%\n"
    }
   }
  },
  {
   "cell_type": "markdown",
   "source": [
    "# Improvements:\n",
    "1) Improved NLP with stemming+/lemmatization."
   ],
   "metadata": {
    "collapsed": false,
    "pycharm": {
     "name": "#%% md\n"
    }
   }
  },
  {
   "cell_type": "code",
   "execution_count": 2,
   "outputs": [],
   "source": [
    "def prep_sw() -> set:\n",
    "    \"\"\"\n",
    "    Function to return stopword set\n",
    "    \"\"\"\n",
    "\n",
    "    stop_words = set(stopwords.words('english'))\n",
    "    for i in [\"'\", 'ect', 'hou', 'enron', 'subject']:\n",
    "        stop_words.add(i)\n",
    "\n",
    "    return stop_words"
   ],
   "metadata": {
    "collapsed": false,
    "pycharm": {
     "name": "#%%\n"
    }
   }
  },
  {
   "cell_type": "code",
   "execution_count": 3,
   "outputs": [],
   "source": [
    "def prep_df() -> pd.DataFrame:\n",
    "    \"\"\"\n",
    "    Function to prepare working dataframe\n",
    "    \"\"\"\n",
    "\n",
    "    df = pd.read_csv('../datasets/spam_ham_dataset.csv')\n",
    "    df.drop(columns=['label', 'Unnamed: 0'], inplace=True)\n",
    "\n",
    "    return df"
   ],
   "metadata": {
    "collapsed": false,
    "pycharm": {
     "name": "#%%\n"
    }
   }
  },
  {
   "cell_type": "code",
   "execution_count": 4,
   "outputs": [],
   "source": [
    "def proc_df(df) -> None:\n",
    "    \"\"\"\n",
    "    Function to process working dataframe.\n",
    "    Modifies df inplace to add normalized feature vectors.\n",
    "    Will elaborate in later commit ;).\n",
    "    \"\"\"\n",
    "\n",
    "    # Create feature vector column\n",
    "    df['feature_vector'] = None\n",
    "\n",
    "    # Generate and randomize word list\n",
    "    word_list = list(map(lambda x: x.lower(), words.words()[:25000]))\n",
    "    np.random.shuffle(word_list)\n",
    "\n",
    "    # Iterate through each row\n",
    "    for i in range(len(df)):\n",
    "\n",
    "        # Add processed entry to feature vector column of row and word_list\n",
    "        feature_vector = proc_str(df.text[i])\n",
    "        df.at[i, 'feature_vector'] = [1 if word in feature_vector else 0 for word in word_list]\n",
    "\n",
    "    # Drop original text column\n",
    "    df.drop(columns='text', inplace=True); return None"
   ],
   "metadata": {
    "collapsed": false,
    "pycharm": {
     "name": "#%%\n"
    }
   }
  },
  {
   "cell_type": "code",
   "execution_count": 20,
   "outputs": [],
   "source": [
    "def get_model_data(df: pd.DataFrame, cv: Optional[bool] = True) -> tuple:\n",
    "    \"\"\"\n",
    "    Wrapper function to generate model data.\n",
    "    CV is a boolean signaling if CountVectorizer or self-defined 'vectorizer', proc_df.\n",
    "    \"\"\"\n",
    "\n",
    "    if not cv:\n",
    "        proc_df(df); fv = df['feature_vector']\n",
    "    else:\n",
    "        fv = CountVectorizer(analyzer=proc_str).fit_transform(df['text'])\n",
    "\n",
    "    return train_test_split(fv, df['label_num'], test_size=0.20, random_state=0)"
   ],
   "metadata": {
    "collapsed": false,
    "pycharm": {
     "name": "#%%\n"
    }
   }
  },
  {
   "cell_type": "code",
   "execution_count": 21,
   "outputs": [],
   "source": [
    "def proc_str(raw) -> list:\n",
    "    \"\"\"\n",
    "    Function to process string\n",
    "    \"\"\"\n",
    "\n",
    "    # Filter escape chars and tokenize body of df.text[i]\n",
    "    txt_tokens = word_tokenize(re.sub(\"[^a-zA-Z' ]+\", ' ', raw))[1:]\n",
    "\n",
    "    # Filter stopwords and cases of filtered/tokenized extract\n",
    "    txt_filtered = [token.lower() for token in txt_tokens if not token.lower() in stop_words]\n",
    "\n",
    "    return txt_filtered"
   ],
   "metadata": {
    "collapsed": false,
    "pycharm": {
     "name": "#%%\n"
    }
   }
  },
  {
   "cell_type": "code",
   "execution_count": 22,
   "outputs": [],
   "source": [
    "def model_report(ref, pred) -> None:\n",
    "\n",
    "    print(f\"\"\"\n",
    "    Classification Report:\\n{classification_report(ref, pred)}\\n\n",
    "    Confusion Matrix:\\n{confusion_matrix(ref, pred)}\\n\n",
    "    Accuracy Score:\\n{accuracy_score(ref, pred)}\n",
    "    \"\"\")\n",
    "\n",
    "    return None"
   ],
   "metadata": {
    "collapsed": false,
    "pycharm": {
     "name": "#%%\n"
    }
   }
  },
  {
   "cell_type": "markdown",
   "source": [
    "# Label_num\n",
    "0: Not spam\n",
    "1: Spam"
   ],
   "metadata": {
    "collapsed": false,
    "pycharm": {
     "name": "#%% md\n"
    }
   }
  },
  {
   "cell_type": "code",
   "execution_count": 41,
   "outputs": [],
   "source": [
    "df = prep_df()"
   ],
   "metadata": {
    "collapsed": false,
    "pycharm": {
     "name": "#%%\n"
    }
   }
  },
  {
   "cell_type": "code",
   "execution_count": 42,
   "outputs": [],
   "source": [
    "stop_words = prep_sw()"
   ],
   "metadata": {
    "collapsed": false,
    "pycharm": {
     "name": "#%%\n"
    }
   }
  },
  {
   "cell_type": "code",
   "execution_count": 43,
   "outputs": [],
   "source": [
    "X_train, X_test, y_train, y_test = get_model_data(df, cv=True)"
   ],
   "metadata": {
    "collapsed": false,
    "pycharm": {
     "name": "#%%\n"
    }
   }
  },
  {
   "cell_type": "code",
   "execution_count": 45,
   "outputs": [],
   "source": [
    "classifier = MultinomialNB().fit(X_train, y_train)"
   ],
   "metadata": {
    "collapsed": false,
    "pycharm": {
     "name": "#%%\n"
    }
   }
  },
  {
   "cell_type": "code",
   "execution_count": 46,
   "outputs": [],
   "source": [
    "train_pred = classifier.predict(X_train)"
   ],
   "metadata": {
    "collapsed": false,
    "pycharm": {
     "name": "#%%\n"
    }
   }
  },
  {
   "cell_type": "code",
   "execution_count": 47,
   "outputs": [
    {
     "name": "stdout",
     "output_type": "stream",
     "text": [
      "\n",
      "    Classification Report:\n",
      "              precision    recall  f1-score   support\n",
      "\n",
      "           0       0.99      0.99      0.99      2940\n",
      "           1       0.99      0.97      0.98      1196\n",
      "\n",
      "    accuracy                           0.99      4136\n",
      "   macro avg       0.99      0.98      0.98      4136\n",
      "weighted avg       0.99      0.99      0.99      4136\n",
      "\n",
      "\n",
      "    Confusion Matrix:\n",
      "[[2924   16]\n",
      " [  36 1160]]\n",
      "\n",
      "    Accuracy Score:\n",
      "0.9874274661508704\n",
      "    \n"
     ]
    }
   ],
   "source": [
    "model_report(y_train, train_pred)"
   ],
   "metadata": {
    "collapsed": false,
    "pycharm": {
     "name": "#%%\n"
    }
   }
  },
  {
   "cell_type": "code",
   "execution_count": 48,
   "outputs": [],
   "source": [
    "test_pred = classifier.predict(X_test)"
   ],
   "metadata": {
    "collapsed": false,
    "pycharm": {
     "name": "#%%\n"
    }
   }
  },
  {
   "cell_type": "code",
   "execution_count": 49,
   "outputs": [
    {
     "name": "stdout",
     "output_type": "stream",
     "text": [
      "\n",
      "    Classification Report:\n",
      "              precision    recall  f1-score   support\n",
      "\n",
      "           0       0.98      0.99      0.98       732\n",
      "           1       0.97      0.95      0.96       303\n",
      "\n",
      "    accuracy                           0.98      1035\n",
      "   macro avg       0.97      0.97      0.97      1035\n",
      "weighted avg       0.98      0.98      0.98      1035\n",
      "\n",
      "\n",
      "    Confusion Matrix:\n",
      "[[722  10]\n",
      " [ 15 288]]\n",
      "\n",
      "    Accuracy Score:\n",
      "0.9758454106280193\n",
      "    \n"
     ]
    }
   ],
   "source": [
    "model_report(y_test, test_pred)"
   ],
   "metadata": {
    "collapsed": false,
    "pycharm": {
     "name": "#%%\n"
    }
   }
  }
 ],
 "metadata": {
  "kernelspec": {
   "display_name": "Python 3",
   "language": "python",
   "name": "python3"
  },
  "language_info": {
   "codemirror_mode": {
    "name": "ipython",
    "version": 2
   },
   "file_extension": ".py",
   "mimetype": "text/x-python",
   "name": "python",
   "nbconvert_exporter": "python",
   "pygments_lexer": "ipython2",
   "version": "2.7.6"
  }
 },
 "nbformat": 4,
 "nbformat_minor": 0
}